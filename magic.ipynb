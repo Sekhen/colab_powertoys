{
  "nbformat": 4,
  "nbformat_minor": 0,
  "metadata": {
    "colab": {
      "name": "magic.ipynb",
      "provenance": [],
      "collapsed_sections": []
    },
    "kernelspec": {
      "name": "python3",
      "display_name": "Python 3",
      "language":"python"
    }
  },
  "cells": [
    {
      "cell_type": "code",
      "metadata": {
        "id": "XspxF4BADJD_"
      },
      "source": [
        "\n",
        "def show_and_run(script, i=True,DISCLAIMER=None):\n",
        "        '''Run a python script inside a cell while opening a text editor window with autosave enabled.\n",
        "        Authors: Mahmoud Soliman <mjs@aucegypt.edu> and Kevin Murphy <murphyk@gmail.com>\n",
        "        '''\n",
        "        from google.colab import files\n",
        "        if not DISCLAIMER:\n",
        "          DISCLAIMER = 'WARNING : Editing in VM - changes lost after reboot!!'\n",
        "        %reload_ext autoreload \n",
        "        %autoreload 2\n",
        "        if i:\n",
        "            s = open(script).read()\n",
        "            if not s.split('\\n', 1)[0]==\"## \"+DISCLAIMER:\n",
        "                open(script, 'w').write(\n",
        "                    f'## {DISCLAIMER}\\n' + '#' * (len(DISCLAIMER) + 3) + '\\n\\n' + s)\n",
        "            files.view(script)\n",
        "            %run $script\n",
        "        else:\n",
        "            %run $script"
      ],
      "execution_count": null,
      "outputs": []
    }
  ]
}
